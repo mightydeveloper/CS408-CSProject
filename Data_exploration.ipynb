{
 "cells": [
  {
   "cell_type": "code",
   "execution_count": 1,
   "metadata": {},
   "outputs": [],
   "source": [
    "# Imports"
   ]
  },
  {
   "cell_type": "code",
   "execution_count": 2,
   "metadata": {},
   "outputs": [
    {
     "name": "stdout",
     "output_type": "stream",
     "text": [
      "['gyro_sober_ys_s8_3.txt']\n",
      "150\n"
     ]
    }
   ],
   "source": [
    "import os\n",
    "data_directory = \"data/data_with_goggle/\"\n",
    "files = os.listdir(data_directory)\n",
    "print(files[:1])\n",
    "print(len(files))"
   ]
  },
  {
   "cell_type": "code",
   "execution_count": 3,
   "metadata": {},
   "outputs": [
    {
     "name": "stdout",
     "output_type": "stream",
     "text": [
      "75\n",
      "75\n"
     ]
    }
   ],
   "source": [
    "gyro_files = [file for file in files if file.startswith('gyro')]\n",
    "accel_files = [file for file in files if file.startswith('accel')]\n",
    "header_names = [file[5:] for file in gyro_files] # remove \"gyro_\"\n",
    "print(len(gyro_files))\n",
    "print(len(accel_files))"
   ]
  },
  {
   "cell_type": "code",
   "execution_count": 4,
   "metadata": {},
   "outputs": [],
   "source": [
    "from datetime import datetime, timedelta\n",
    "def read_filedata(filename):\n",
    "    \"\"\"\n",
    "    Returns list of tuple consisting - `timestamp`, `x`, `y`, `z`\n",
    "    [\n",
    "    (`timestamp`,`x`,`y`,`z`), ...\n",
    "    ]\n",
    "    \"\"\"\n",
    "    with open(filename) as f:\n",
    "        lines = f.readlines()\n",
    "        # line.strip().split()\n",
    "        # will give `timestamp` `x` `y` `z`\n",
    "        lines = [line.strip().split() for line in lines]\n",
    "        \n",
    "        # Some data has less datapoints because the output was not flushed\n",
    "        # So we only filter out normal ones\n",
    "        lines = [line for line in lines if len(line) == 4]\n",
    "        lines = [(datetime.fromtimestamp(float(ts)/1000), float(x), float(y), float(z)) for (ts, x, y, z) in lines]\n",
    "    return lines"
   ]
  },
  {
   "cell_type": "code",
   "execution_count": 5,
   "metadata": {},
   "outputs": [],
   "source": [
    "def preprocess(data, seconds=5):\n",
    "    print(\"original data points: \", len(data))\n",
    "    # Remove duplicates\n",
    "    no_dup = []\n",
    "    for idx, line in enumerate(data):\n",
    "        ts, x, y, z = line\n",
    "        if 0 <= idx-1 and ts == data[idx-1][0]:\n",
    "            continue\n",
    "        else:\n",
    "            no_dup.append(line)\n",
    "    print(\"Data points after removing duplicates\", len(no_dup))\n",
    "    \n",
    "    # Remove n seconds from start / end\n",
    "    delta = timedelta(days=0,seconds=seconds)\n",
    "    start_time = no_dup[0][0] + delta\n",
    "    end_time = no_dup[-1][0] - delta\n",
    "    no_dup = [(ts, x, y, z) for (ts, x, y, z) in no_dup if start_time <= ts <= end_time]\n",
    "    print(\"Data points after removing edges\", len(no_dup))\n",
    "    \n",
    "    print(\"Time between\" , start_time.strftime('%Y-%m-%d %H:%M:%S'), \"-\",  end_time.strftime('%Y-%m-%d %H:%M:%S'))\n",
    "    print(\"Time took \", (end_time - start_time).total_seconds(), \"seconds\")\n",
    "    return no_dup"
   ]
  },
  {
   "cell_type": "code",
   "execution_count": 6,
   "metadata": {},
   "outputs": [],
   "source": [
    "def plot_graph(data):\n",
    "    plt.plot(list(map(lambda x:x[0], data)), list(map(lambda x:x[1], data)))\n",
    "    plt.gcf().autofmt_xdate()\n",
    "    # Erase y axis\n",
    "    plt.gca().get_yaxis().set_visible(False)\n",
    "    plt.show()"
   ]
  },
  {
   "cell_type": "code",
   "execution_count": 7,
   "metadata": {},
   "outputs": [
    {
     "name": "stdout",
     "output_type": "stream",
     "text": [
      "sober ys s8 3\n",
      "gyroscope data points :  34672\n",
      "accelerometer data points :  34672\n",
      "original data points:  34672\n",
      "Data points after removing duplicates 20640\n",
      "Data points after removing edges 17657\n",
      "Time between 2018-05-11 22:25:00 - 2018-05-11 22:25:59\n",
      "Time took  59.384 seconds\n",
      "original data points:  34672\n",
      "Data points after removing duplicates 20416\n",
      "Data points after removing edges 17450\n",
      "Time between 2018-05-11 22:25:00 - 2018-05-11 22:25:59\n",
      "Time took  59.384 seconds\n",
      "(datetime.datetime(2018, 5, 11, 22, 25, 0, 368000), -0.8296723, -2.2058234, 0.58078504)\n"
     ]
    }
   ],
   "source": [
    "from matplotlib import pyplot as plt\n",
    "#from matplotlib import style \n",
    "#style.use('ggplot')\n",
    "\n",
    "for name in header_names:\n",
    "    color, person, phone, number = name[:-4].split('_') # remove \".txt\" and split by '_'\n",
    "    print(color, person, phone, number)\n",
    "    gyro = read_filedata(data_directory + 'gyro_' + name)\n",
    "    accel = read_filedata(data_directory + 'accel_' + name)\n",
    "    \n",
    "    print(\"gyroscope data points : \", len(gyro))\n",
    "    print(\"accelerometer data points : \", len(accel))\n",
    "    gyro = preprocess(gyro)\n",
    "    accel = preprocess(accel)\n",
    "    break"
   ]
  },
  {
   "cell_type": "code",
   "execution_count": 8,
   "metadata": {},
   "outputs": [],
   "source": [
    "import numpy as np"
   ]
  },
  {
   "cell_type": "code",
   "execution_count": 9,
   "metadata": {},
   "outputs": [],
   "source": [
    "fft_x = np.fft.fft(list(map(lambda x:x[1], gyro)))\n",
    "fft_y = np.fft.fft(list(map(lambda x:x[2], gyro)))\n",
    "fft_z = np.fft.fft(list(map(lambda x:x[3], gyro)))"
   ]
  },
  {
   "cell_type": "code",
   "execution_count": 10,
   "metadata": {},
   "outputs": [
    {
     "name": "stdout",
     "output_type": "stream",
     "text": [
      "17657\n",
      "17657\n",
      "17657\n",
      "17657\n",
      "[-1538.88936099  +0.j            49.16281661 +60.86386324j\n",
      "   -53.81400573+158.12532536j ...,   209.06277182  +7.42157856j\n",
      "   -53.81400573-158.12532536j    49.16281661 -60.86386324j]\n"
     ]
    }
   ],
   "source": [
    "print(len(fft_x))\n",
    "print(len(fft_y))\n",
    "print(len(fft_z))\n",
    "print(len(gyro))\n",
    "print(fft_x)"
   ]
  },
  {
   "cell_type": "code",
   "execution_count": 11,
   "metadata": {},
   "outputs": [],
   "source": [
    "fft_x = np.fft.fft(list(map(lambda x:x[1], accel)))\n",
    "fft_y = np.fft.fft(list(map(lambda x:x[2], accel)))\n",
    "fft_z = np.fft.fft(list(map(lambda x:x[3], accel)))"
   ]
  },
  {
   "cell_type": "code",
   "execution_count": 12,
   "metadata": {},
   "outputs": [
    {
     "name": "stdout",
     "output_type": "stream",
     "text": [
      "17450\n",
      "17450\n",
      "17450\n",
      "17450\n"
     ]
    }
   ],
   "source": [
    "print(len(fft_x))\n",
    "print(len(fft_y))\n",
    "print(len(fft_z))\n",
    "print(len(accel))"
   ]
  },
  {
   "cell_type": "code",
   "execution_count": null,
   "metadata": {},
   "outputs": [],
   "source": []
  }
 ],
 "metadata": {
  "kernelspec": {
   "display_name": "Python 3",
   "language": "python",
   "name": "python3"
  },
  "language_info": {
   "codemirror_mode": {
    "name": "ipython",
    "version": 3
   },
   "file_extension": ".py",
   "mimetype": "text/x-python",
   "name": "python",
   "nbconvert_exporter": "python",
   "pygments_lexer": "ipython3",
   "version": "3.5.2"
  }
 },
 "nbformat": 4,
 "nbformat_minor": 2
}
