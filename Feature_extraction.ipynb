{
 "cells": [
  {
   "cell_type": "markdown",
   "metadata": {},
   "source": [
    "# Features\n",
    "- Variance of gait stretch - done\n",
    "- Variance of step time - done\n",
    "- Average step time - done\n",
    "- Number of steps in a given time interval\n",
    "- Vertical variance\n",
    "- Horizontal variance\n",
    "- Average step length\n",
    "- Average velocity\n",
    "- Cadence\n",
    "- Skewness\n",
    "- Sway area\n",
    "- (FFT) Average Power\n",
    "- (FFT) SNR"
   ]
  },
  {
   "cell_type": "code",
   "execution_count": 1,
   "metadata": {},
   "outputs": [],
   "source": [
    "from utils import *"
   ]
  },
  {
   "cell_type": "code",
   "execution_count": 2,
   "metadata": {},
   "outputs": [],
   "source": [
    "import gaitdynamics as gd\n",
    "\n",
    "max_threshold = 20\n",
    "min_stretch = 4\n",
    "max_stretch = 20\n",
    "min_step = 300\n",
    "max_step = 700\n",
    "\n",
    "slice_interval = 15 # seconds"
   ]
  },
  {
   "cell_type": "code",
   "execution_count": 3,
   "metadata": {},
   "outputs": [],
   "source": [
    "import matplotlib.pyplot as plt"
   ]
  },
  {
   "cell_type": "code",
   "execution_count": 4,
   "metadata": {},
   "outputs": [],
   "source": [
    "from sklearn import datasets, svm, metrics"
   ]
  },
  {
   "cell_type": "code",
   "execution_count": 5,
   "metadata": {},
   "outputs": [
    {
     "name": "stdout",
     "output_type": "stream",
     "text": [
      "75\n",
      "75\n"
     ]
    }
   ],
   "source": [
    "import os\n",
    "data_directory = \"data/data_with_goggle/\"\n",
    "files = os.listdir(data_directory)\n",
    "gyro_files = [file for file in files if file.startswith('gyro')]\n",
    "accel_files = [file for file in files if file.startswith('accel')]\n",
    "header_names = [file[5:] for file in gyro_files] # remove \"gyro_\"\n",
    "print(len(gyro_files))\n",
    "print(len(accel_files))"
   ]
  },
  {
   "cell_type": "code",
   "execution_count": 6,
   "metadata": {},
   "outputs": [],
   "source": [
    "def plot_graph(data):\n",
    "    plt.plot(list(map(lambda x:x[0], data)), list(map(lambda x:x[1], data)))\n",
    "    plt.gcf().autofmt_xdate()\n",
    "    # Erase y axis\n",
    "    plt.gca().get_yaxis().set_visible(False)\n",
    "    plt.show()"
   ]
  },
  {
   "cell_type": "code",
   "execution_count": 7,
   "metadata": {},
   "outputs": [],
   "source": [
    "def calc_magnitude(t, x, y, z):\n",
    "    magnitude = gd.signal.magnitude_acceleration(x, y, z)\n",
    "    return min(magnitude, max_threshold)\n",
    "\n",
    "def interpolate(time, x, y, z, interval=10):\n",
    "    timeStart = math.ceil(time[0] / interval) * interval\n",
    "    timeEnd = math.ceil(time[len(time) - 1] / interval) * interval\n",
    "\n",
    "    interpTime = np.arange(timeStart, timeEnd, interval)\n",
    "    interpX = np.interp(interpTime, time, x)\n",
    "    interpY = np.interp(interpTime, time, y)\n",
    "    interpZ = np.interp(interpTime, time, z)\n",
    "\n",
    "    return [interpTime, interpX, interpY, interpZ]\n",
    "\n",
    "def reject_outliers(data, m=2):\n",
    "    return data[abs(data - np.mean(data)) < m * np.std(data)]"
   ]
  },
  {
   "cell_type": "code",
   "execution_count": 8,
   "metadata": {},
   "outputs": [],
   "source": [
    "def gait_features(accel_T):\n",
    "    # Calculate magnitudes\n",
    "    magnitudes = np.array([calc_magnitude(*point) for point in zip(*accel_T)])\n",
    "\n",
    "    # Apply filter to magnitudes\n",
    "    magnitudes = scipy.signal.savgol_filter(magnitudes, 41, 3) # window_size=41 / dimension=3\n",
    "    \n",
    "    # Calculate peak and valley\n",
    "    peak = gd.peak.find_peaks(accel_T[0], magnitudes, peak_type='peak', min_dist=30)\n",
    "    both = gd.peak.find_peaks(accel_T[0], magnitudes, peak_type='both', min_dist=30, plot=False)\n",
    "    #both = gd.peak.find_peaks(accel_T[0][:500], magnitudes[:500], peak_type='both', min_dist=30, plot=True)\n",
    "    \n",
    "    #print(accel_T[0][:500], magnitudes[:500])\n",
    "    \n",
    "    # Calculate step size / gait stretch\n",
    "    stretch = [x1 - x2 for (x1, x2) in zip(both[1], both[1][1:])]\n",
    "    step = [x1 - x2 for (x2, x1) in zip(peak[0], peak[0][1:])]\n",
    "\n",
    "    # Reject outliers    \n",
    "    stretch = reject_outliers(np.array(stretch))\n",
    "    step = reject_outliers(np.array(step)) \n",
    "    \n",
    "    # Filter out outliers\n",
    "    stretch = [s for s in stretch if min_stretch < s < max_stretch]\n",
    "    step = [s for s in step if min_step < s < max_step]\n",
    "    \n",
    "    # Calculate its variance\n",
    "    var_stretch = np.var(stretch)\n",
    "    var_step = np.var(step)\n",
    "    avg_step = np.mean(step)\n",
    "    \n",
    "    features = [var_stretch, var_step, avg_step]\n",
    "    return features"
   ]
  },
  {
   "cell_type": "code",
   "execution_count": 9,
   "metadata": {},
   "outputs": [
    {
     "name": "stdout",
     "output_type": "stream",
     "text": [
      "[0.50727974192528846, 181.72249886826617, 494.14893617021278]\n",
      "[0.1355173171188962, 1486.8872817590764, 573.24786324786328]\n",
      "[0.73013995530358677, 1538.5902456390177, 516.22641509433959]\n",
      "[0.17186273894538198, 2218.7255859375, 569.84375]\n",
      "[0.34998154878815679, 411.21458680521516, 511.28712871287127]\n",
      "[0.56878020911831906, 464.26820899911775, 500.29702970297029]\n",
      "[0.49450299290053107, 906.48860502249966, 474.33734939759034]\n",
      "[1.3456902883167086, 656.60491493383756, 512.78260869565213]\n",
      "[0.38035671018356543, 383.00173451688602, 503.73737373737373]\n",
      "[0.24428350434164611, 1012.4854859640736, 573.38842975206614]\n",
      "[0.52436656900975465, 1721.3664940828401, 509.13461538461536]\n",
      "[0.41207964613697451, 650.0, 520.0]\n",
      "[0.26577750631171615, 670.69252077562328, 545.78947368421052]\n",
      "[1.2003171701906468, 574.70062405127339, 464.02597402597405]\n",
      "[0.640401494466453, 687.29971327373914, 474.80519480519479]\n",
      "[0.42507474778283333, 1066.4228014022253, 479.50617283950618]\n",
      "[0.59435364047037265, 416.74345652387012, 509.70297029702971]\n",
      "[0.51341916037849478, 398.42873176206513, 545.55555555555554]\n",
      "[1.2176905732917684, 273.35986123864916, 503.53535353535352]\n",
      "[0.65291544820241676, 1641.1214953271028, 510.0]\n",
      "[0.22768775022087601, 808.78679360642843, 580.74766355140184]\n",
      "[0.73777904230116287, 625.78382399829945, 487.73195876288662]\n",
      "[0.34015590532631967, 517.54305746075295, 489.01234567901236]\n",
      "[0.36196831648158934, 395.07266435986162, 520.47058823529414]\n",
      "[0.26947618336523199, 544.98966942148763, 519.31818181818187]\n",
      "[0.69099120474901832, 691.18885179271308, 472.53012048192772]\n",
      "[0.76155974161501483, 349.12110726643596, 474.23529411764707]\n",
      "[0.25351668983814335, 833.97612488521611, 576.06060606060601]\n",
      "[0.38962155229300371, 583.67513519028671, 499.59595959595958]\n",
      "[0.15834747876613012, 1174.3662170750649, 595.46218487394958]\n",
      "[0.47553283037821459, 638.56749311294766, 499.09090909090907]\n",
      "[0.66885761359310492, 665.94400980299736, 502.621359223301]\n",
      "[0.46910691443570951, 1403.3908387864365, 481.21951219512198]\n",
      "[0.8531938543366745, 1015.6798384042419, 489.77528089887642]\n",
      "[0.505143744088971, 481.82812894537494, 525.2293577981651]\n",
      "[0.57471179079603751, 157.65306122448985, 499.28571428571428]\n",
      "[0.62339339735340882, 1340.3600000000006, 494.19999999999999]\n",
      "[1.2298178338411969, 1081.6752543268594, 488.16091954022988]\n",
      "[0.40369155292580627, 229.09790097740751, 470.12658227848101]\n",
      "[0.47791776873117142, 302.96039984621308, 499.01960784313724]\n",
      "[0.40906001856732438, 366.35037241097848, 494.74747474747477]\n",
      "[0.20277265467457986, 825.58233909585249, 601.53153153153153]\n",
      "[0.30797038131284205, 490.96050523140735, 505.24271844660194]\n",
      "[0.6443728640496057, 2426.4930555555557, 537.91666666666663]\n",
      "[0.54327653633488726, 750.9375, 478.75]\n",
      "[0.54556533653975581, 1078.1584041747328, 505.22935779816515]\n",
      "[0.8084450648656224, 1205.7599852071007, 502.59615384615387]\n",
      "[0.35432680419324758, 809.73499188750668, 527.44186046511629]\n",
      "[0.47042818485731386, 807.02977315689986, 524.23913043478262]\n",
      "[0.37045375455944318, 583.45884528999875, 555.40229885057477]\n",
      "[0.16021190493257778, 794.01753864447096, 586.29310344827582]\n",
      "[0.25112240673978381, 744.36755094194552, 554.50980392156862]\n",
      "[0.30291898231604392, 1295.8677685950413, 518.63636363636363]\n",
      "[0.46700668229269748, 930.59891847770643, 496.86868686868689]\n",
      "[0.69782571937849147, 2000.3139717425431, 525.71428571428567]\n",
      "[0.29066730372723604, 941.45634585195, 549.45054945054949]\n",
      "[0.51645156177628548, 691.84654538599295, 501.1650485436893]\n",
      "[0.70390386008611694, 332.71818531334094, 499.21568627450978]\n",
      "[0.29730134404169184, 921.8393351800554, 565.0526315789474]\n",
      "[0.50592733318354599, 775.24990388312187, 532.84313725490199]\n",
      "[1.0954819705664474, 331.94571982450771, 544.64646464646466]\n",
      "[0.12396004458753053, 1565.3232514177694, 604.26086956521738]\n",
      "[0.59124002543926302, 1627.2694909220363, 506.22641509433964]\n",
      "[0.35618672379364541, 498.64720541117845, 547.7358490566038]\n",
      "[0.86918030049528461, 433.33333333333331, 480.0]\n",
      "[0.542132821220079, 575.7460317460318, 522.66666666666663]\n",
      "[0.23792619874736992, 1491.7911519678255, 590.76271186440681]\n",
      "[0.33045314583442592, 816.62049861495882, 537.89473684210532]\n",
      "[0.53085887374804219, 85.521072334259145, 491.86813186813185]\n",
      "[0.92820369948951442, 2228.8434348194933, 523.59223300970871]\n",
      "[0.47096009202512945, 142.18301626102669, 497.11340206185565]\n",
      "[0.5106910473293842, 614.08612754766602, 469.87179487179486]\n",
      "[0.77217870688203472, 420.74506939371793, 468.10810810810813]\n",
      "[0.41893394496253855, 813.65645480871797, 477.53086419753089]\n",
      "[0.77047519227845152, 2816.9688581314881, 480.8235294117647]\n"
     ]
    }
   ],
   "source": [
    "import numpy as np\n",
    "import scipy\n",
    "import math\n",
    "\n",
    "check_dir(\"input_data\")\n",
    "\n",
    "y_mapping = {\"sober\":0 , \"blue\":1 , \"black\":2}\n",
    "\n",
    "n = len(header_names)\n",
    "\n",
    "X = np.zeros(shape=(n, 3))\n",
    "y = np.zeros(shape=(n,))\n",
    "\n",
    "for idx, name in enumerate(header_names):\n",
    "    color, person, phone, number = name[:-4].split('_') # remove \".txt\" and split by '_'\n",
    "    \n",
    "#     if phone != \"v10\":\n",
    "#         continue\n",
    "#     if (color, person, phone, number) != tuple(\"black ys v10 6\".split()):\n",
    "#        continue\n",
    "    #print(color, person, phone, number)\n",
    "    \n",
    "    gyro = read_filedata(data_directory + 'gyro_' + name)\n",
    "    accel = read_filedata(data_directory + 'accel_' + name)\n",
    "    \n",
    "    #print(\"gyroscope data points : \", len(gyro))\n",
    "    #print(\"accelerometer data points : \", len(accel))\n",
    "    gyro = preprocess(gyro)\n",
    "    accel = preprocess(accel)\n",
    "    \n",
    "    gyro_T = list(zip(*gyro))\n",
    "    accel_T = list(zip(*accel))\n",
    "    \n",
    "    # Perform FFT\n",
    "    gyro_fft = list(map(np.fft.fft, gyro_T[1:]))\n",
    "    accel_fft = list(map(np.fft.fft, accel_T[1:]))\n",
    "    \n",
    "    def accel_date2ms(date):\n",
    "        delta = date-accel_T[0][0]\n",
    "        return (delta.microseconds / 1000) + delta.seconds * 1000\n",
    "    \n",
    "    def gyro_date2ms(date):\n",
    "        delta = date-gyro_T[0][0]\n",
    "        return (delta.microseconds / 1000) + delta.seconds * 1000\n",
    "\n",
    "    # Convert datetime to ms from start\n",
    "    accel_T[0] = list(map(accel_date2ms, accel_T[0]))\n",
    "    gyro_T[0] = list(map(gyro_date2ms, gyro_T[0]))\n",
    "    \n",
    "    # Interpolate data\n",
    "    accel_T = interpolate(*accel_T)\n",
    "    gyro_T = interpolate(*gyro_T)    \n",
    "    \n",
    "    # Extract features\n",
    "    features = gait_features(accel_T)\n",
    "    print(features)\n",
    "    \n",
    "    X[idx] = features\n",
    "    y[idx] = y_mapping[color]\n",
    "    \n",
    "    "
   ]
  },
  {
   "cell_type": "code",
   "execution_count": 10,
   "metadata": {},
   "outputs": [
    {
     "name": "stdout",
     "output_type": "stream",
     "text": [
      "(75, 3)\n",
      "<class 'numpy.ndarray'>\n",
      "(75,)\n",
      "<class 'numpy.ndarray'>\n"
     ]
    }
   ],
   "source": [
    "print(X.shape)\n",
    "print(type(X))\n",
    "print(y.shape)\n",
    "print(type(y))"
   ]
  },
  {
   "cell_type": "code",
   "execution_count": 11,
   "metadata": {},
   "outputs": [],
   "source": [
    "# Save data\n",
    "import pickle\n",
    "input_data = (X, y)\n",
    "check_dir(\"input_data\")\n",
    "with open(\"input_data/input_data.pkl\", \"wb\") as f:\n",
    "    pickle.dump(input_data, f)"
   ]
  },
  {
   "cell_type": "code",
   "execution_count": null,
   "metadata": {},
   "outputs": [],
   "source": []
  },
  {
   "cell_type": "code",
   "execution_count": null,
   "metadata": {},
   "outputs": [],
   "source": []
  }
 ],
 "metadata": {
  "kernelspec": {
   "display_name": "Python 3",
   "language": "python",
   "name": "python3"
  },
  "language_info": {
   "codemirror_mode": {
    "name": "ipython",
    "version": 3
   },
   "file_extension": ".py",
   "mimetype": "text/x-python",
   "name": "python",
   "nbconvert_exporter": "python",
   "pygments_lexer": "ipython3",
   "version": "3.5.2"
  }
 },
 "nbformat": 4,
 "nbformat_minor": 2
}
