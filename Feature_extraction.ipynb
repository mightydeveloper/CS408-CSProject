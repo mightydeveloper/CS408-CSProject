{
 "cells": [
  {
   "cell_type": "markdown",
   "metadata": {},
   "source": [
    "# Features\n",
    "- Variance of gait stretch - done\n",
    "- Variance of step time - done\n",
    "- Average step time - done\n",
    "- Number of steps in a given time interval\n",
    "- Vertical variance\n",
    "- Horizontal variance\n",
    "- Average step length\n",
    "- Average velocity\n",
    "- Cadence\n",
    "- Skewness\n",
    "- Sway area\n",
    "- (FFT) Average Power\n",
    "- (FFT) SNR"
   ]
  },
  {
   "cell_type": "code",
   "execution_count": 1,
   "metadata": {},
   "outputs": [],
   "source": [
    "from utils import *"
   ]
  },
  {
   "cell_type": "code",
   "execution_count": 2,
   "metadata": {},
   "outputs": [],
   "source": [
    "import gaitdynamics as gd\n",
    "\n",
    "max_threshold = 20\n",
    "min_stretch = 4\n",
    "max_stretch = 20\n",
    "min_step = 300\n",
    "max_step = 700\n",
    "\n",
    "slice_interval = 15 # seconds"
   ]
  },
  {
   "cell_type": "code",
   "execution_count": 3,
   "metadata": {},
   "outputs": [],
   "source": [
    "import matplotlib.pyplot as plt"
   ]
  },
  {
   "cell_type": "code",
   "execution_count": 4,
   "metadata": {},
   "outputs": [],
   "source": [
    "from sklearn import datasets, svm, metrics"
   ]
  },
  {
   "cell_type": "code",
   "execution_count": 5,
   "metadata": {},
   "outputs": [
    {
     "name": "stdout",
     "output_type": "stream",
     "text": [
      "75\n",
      "75\n"
     ]
    }
   ],
   "source": [
    "import os\n",
    "data_directory = \"data/data_with_goggle/\"\n",
    "files = os.listdir(data_directory)\n",
    "gyro_files = [file for file in files if file.startswith('gyro')]\n",
    "accel_files = [file for file in files if file.startswith('accel')]\n",
    "header_names = [file[5:] for file in gyro_files] # remove \"gyro_\"\n",
    "print(len(gyro_files))\n",
    "print(len(accel_files))"
   ]
  },
  {
   "cell_type": "code",
   "execution_count": 6,
   "metadata": {},
   "outputs": [],
   "source": [
    "def plot_graph(data):\n",
    "    plt.plot(list(map(lambda x:x[0], data)), list(map(lambda x:x[1], data)))\n",
    "    plt.gcf().autofmt_xdate()\n",
    "    # Erase y axis\n",
    "    plt.gca().get_yaxis().set_visible(False)\n",
    "    plt.show()"
   ]
  },
  {
   "cell_type": "code",
   "execution_count": 7,
   "metadata": {},
   "outputs": [],
   "source": [
    "def calc_magnitude(t, x, y, z):\n",
    "    magnitude = gd.signal.magnitude_acceleration(x, y, z)\n",
    "    return min(magnitude, max_threshold)\n",
    "\n",
    "def interpolate(time, x, y, z, interval=10):\n",
    "    timeStart = math.ceil(time[0] / interval) * interval\n",
    "    timeEnd = math.ceil(time[len(time) - 1] / interval) * interval\n",
    "\n",
    "    interpTime = np.arange(timeStart, timeEnd, interval)\n",
    "    interpX = np.interp(interpTime, time, x)\n",
    "    interpY = np.interp(interpTime, time, y)\n",
    "    interpZ = np.interp(interpTime, time, z)\n",
    "\n",
    "    return [interpTime, interpX, interpY, interpZ]\n",
    "\n",
    "def reject_outliers(data, m=2):\n",
    "    return data[abs(data - np.mean(data)) < m * np.std(data)]"
   ]
  },
  {
   "cell_type": "code",
   "execution_count": 9,
   "metadata": {},
   "outputs": [],
   "source": [
    "def gait_features(accel_T):\n",
    "    # Calculate magnitudes\n",
    "    magnitudes = np.array([calc_magnitude(*point) for point in zip(*accel_T)])\n",
    "\n",
    "    # Apply filter to magnitudes\n",
    "    magnitudes = scipy.signal.savgol_filter(magnitudes, 41, 3) # window_size=41 / dimension=3\n",
    "    \n",
    "    # Calculate peak and valley\n",
    "    peak = gd.peak.find_peaks(accel_T[0], magnitudes, peak_type='peak', min_dist=30)\n",
    "    both = gd.peak.find_peaks(accel_T[0], magnitudes, peak_type='both', min_dist=30, plot=False)\n",
    "    #both = gd.peak.find_peaks(accel_T[0][:500], magnitudes[:500], peak_type='both', min_dist=30, plot=True)\n",
    "    \n",
    "    #print(accel_T[0][:500], magnitudes[:500])\n",
    "    \n",
    "    # Calculate step size / gait stretch\n",
    "    stretch = [x1 - x2 for (x1, x2) in zip(both[1], both[1][1:])]\n",
    "    step = [x1 - x2 for (x2, x1) in zip(peak[0], peak[0][1:])]\n",
    "\n",
    "    # Reject outliers    \n",
    "    stretch = reject_outliers(np.array(stretch))\n",
    "    step = reject_outliers(np.array(step)) \n",
    "    \n",
    "    # Filter out outliers\n",
    "    stretch = [s for s in stretch if min_stretch < s < max_stretch]\n",
    "    step = [s for s in step if min_step < s < max_step]\n",
    "    \n",
    "    # Calculate its variance\n",
    "    var_stretch = np.var(stretch)\n",
    "    var_step = np.var(step)\n",
    "    avg_step = np.mean(step)\n",
    "    \n",
    "    features = [var_stretch, var_step, avg_step]\n",
    "    return features"
   ]
  },
  {
   "cell_type": "code",
   "execution_count": 14,
   "metadata": {},
   "outputs": [
    {
     "name": "stdout",
     "output_type": "stream",
     "text": [
      "sober ys s8 3\n",
      "[   0.50727974  181.72249887  494.14893617]\n"
     ]
    }
   ],
   "source": [
    "import numpy as np\n",
    "import scipy\n",
    "import math\n",
    "\n",
    "for name in header_names:\n",
    "    color, person, phone, number = name[:-4].split('_') # remove \".txt\" and split by '_'\n",
    "    \n",
    "#     if phone != \"v10\":\n",
    "#         continue\n",
    "#     if (color, person, phone, number) != tuple(\"black ys v10 6\".split()):\n",
    "#        continue\n",
    "    print(color, person, phone, number)\n",
    "    \n",
    "    gyro = read_filedata(data_directory + 'gyro_' + name)\n",
    "    accel = read_filedata(data_directory + 'accel_' + name)\n",
    "    \n",
    "    #print(\"gyroscope data points : \", len(gyro))\n",
    "    #print(\"accelerometer data points : \", len(accel))\n",
    "    gyro = preprocess(gyro)\n",
    "    accel = preprocess(accel)\n",
    "    \n",
    "    gyro_T = list(zip(*gyro))\n",
    "    accel_T = list(zip(*accel))\n",
    "    \n",
    "    # Perform FFT\n",
    "    gyro_fft = list(map(np.fft.fft, gyro_T[1:]))\n",
    "    accel_fft = list(map(np.fft.fft, accel_T[1:]))\n",
    "    \n",
    "    def accel_date2ms(date):\n",
    "        delta = date-accel_T[0][0]\n",
    "        return (delta.microseconds / 1000) + delta.seconds * 1000\n",
    "    \n",
    "    def gyro_date2ms(date):\n",
    "        delta = date-gyro_T[0][0]\n",
    "        return (delta.microseconds / 1000) + delta.seconds * 1000\n",
    "\n",
    "    # Convert datetime to ms from start\n",
    "    accel_T[0] = list(map(accel_date2ms, accel_T[0]))\n",
    "    gyro_T[0] = list(map(gyro_date2ms, gyro_T[0]))\n",
    "    \n",
    "    # Interpolate data\n",
    "    accel_T = interpolate(*accel_T)\n",
    "    gyro_T = interpolate(*gyro_T)    \n",
    "    \n",
    "    # Extract features\n",
    "    features = gait_features(accel_T)\n",
    "    print(features)\n",
    "    \n",
    "    break"
   ]
  },
  {
   "cell_type": "code",
   "execution_count": null,
   "metadata": {},
   "outputs": [],
   "source": []
  }
 ],
 "metadata": {
  "kernelspec": {
   "display_name": "Python 3",
   "language": "python",
   "name": "python3"
  },
  "language_info": {
   "codemirror_mode": {
    "name": "ipython",
    "version": 3
   },
   "file_extension": ".py",
   "mimetype": "text/x-python",
   "name": "python",
   "nbconvert_exporter": "python",
   "pygments_lexer": "ipython3",
   "version": "3.5.2"
  }
 },
 "nbformat": 4,
 "nbformat_minor": 2
}
